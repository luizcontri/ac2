{
 "cells": [
  {
   "cell_type": "code",
   "execution_count": 88,
   "id": "9c99391a",
   "metadata": {},
   "outputs": [],
   "source": [
    "from selenium.webdriver.common.by import By\n",
    "from selenium.webdriver.support.select import Select\n",
    "from selenium.webdriver.support.wait import WebDriverWait\n",
    "import pandas as pd\n",
    "import requests\n",
    "from selenium import webdriver\n",
    "from datetime import date\n",
    "import time\n",
    "import dateutil.relativedelta"
   ]
  },
  {
   "cell_type": "code",
   "execution_count": 91,
   "id": "321be02f",
   "metadata": {},
   "outputs": [],
   "source": [
    "def getDownloadLink(data):\n",
    "    link = []\n",
    "    cont = 0\n",
    "    while (not link or cont == 10):\n",
    "        #Iniciando driver\n",
    "        options = webdriver.ChromeOptions()\n",
    "        options.add_argument('--headless')\n",
    "        options.add_argument('--no-sandbox')\n",
    "        options.add_argument(\"--window-size=800,800\")\n",
    "        driver = webdriver.Chrome(options=options)\n",
    "        driver.get(\"https://portalibre.fgv.br/press-releases\")\n",
    "        \n",
    "        #Selecionando Indice Geral de Preco\n",
    "        select_element = driver.find_element(By.ID, 'edit-term-node-tid-depth-shs-0-0')\n",
    "        select = Select(select_element)\n",
    "        select.select_by_visible_text('Índice Geral de Preço')\n",
    "        time.sleep(1)\n",
    "\n",
    "        select_element = driver.find_element(By.ID, 'edit-term-node-tid-depth-shs-0-1')\n",
    "        select = Select(select_element)\n",
    "        select.select_by_visible_text('IGP-M')\n",
    "        time.sleep(1)\n",
    "        driver.find_element(By.ID, 'edit-submit-press-release').click()\n",
    "        #button = driver.find_element(By.ID, 'edit-submit-press-release')\n",
    "        #driver.execute_script(\"arguments[0].click();\", button)\n",
    "        time.sleep(2)\n",
    "        elems = driver.find_elements(By.XPATH, '//a[contains(@href,\".xls\")]')\n",
    "        links = []\n",
    "        for elem in elems:\n",
    "            links.append(elem.get_attribute(\"href\"))\n",
    "        mes_ano = str(data.strftime(\"%Y-%m\"))\n",
    "        link = [x for x in links if f'{mes_ano}' in x]\n",
    "        cont+=1\n",
    "        if not link:\n",
    "            data = data - dateutil.relativedelta.relativedelta(months=1)\n",
    "    return link[0]\n",
    "    "
   ]
  },
  {
   "cell_type": "code",
   "execution_count": 84,
   "id": "0d4d476d",
   "metadata": {},
   "outputs": [],
   "source": [
    "def download_file(file_url,file_name):\n",
    "    #Baixando o arquivo\n",
    "    print(f\"Downloading {file_url}\")\n",
    "    try:\n",
    "        r = requests.get(file_url)\n",
    "        open(\"bases_originais/\"+file_name, 'wb').write(r.content)\n",
    "    except Exception as e:\n",
    "        print('Downloading file error: ', e)"
   ]
  },
  {
   "cell_type": "code",
   "execution_count": 93,
   "id": "b8567db0",
   "metadata": {},
   "outputs": [],
   "source": [
    "def clean_df(file_name):\n",
    "    print(\"Generating dataframe...\")\n",
    "    #Lendo dataframe\n",
    "    df = pd.read_excel(\"bases_originais/\"+file_name,header=[1])\n",
    "    \n",
    "    #Selecionando e renomeando colunas\n",
    "    df = df[['Data', 'IGP-M', 'IGP-M.1']]\\\n",
    "    .rename(columns={\"Data\": \"data\", \"IGP-M\": \"igp-mMensal\", \"IGP-M.1\": \"igp-m12m\"})\n",
    "    \n",
    "    #formatando o dataframe\n",
    "    df = df.drop(df[df[\"igp-mMensal\"].str.contains('% mês', na=False)].index)\\\n",
    "    .drop(df[df[\"data\"].str.contains('Fonte', na=False)].index)\\\n",
    "    .drop(df[df[\"data\"].str.contains('Inicio da série', na=False)].index)\n",
    "\t\n",
    "    #Arrumando tipagem dos dados\n",
    "    df.data = df.data.astype(str)\n",
    "    df[\"igp-mMensal\"] = df[\"igp-mMensal\"].astype(float)\n",
    "    df[\"igp-m12m\"] = df[\"igp-m12m\"].astype(float)\n",
    "    \n",
    "    #Arrumando formato de data\n",
    "    df['data'] = df['data'].apply(lambda x: r\"1989-06-01 00:00:00\" if x == r\"jun/89 (*)\" else x)\n",
    "    \n",
    "    return df"
   ]
  },
  {
   "cell_type": "code",
   "execution_count": 96,
   "id": "3c221d81",
   "metadata": {},
   "outputs": [
    {
     "name": "stdout",
     "output_type": "stream",
     "text": [
      "Downloading https://portalibre.fgv.br/system/files/2023-03/igp-m_fgv_complemento_mar23.xls\n",
      "Generating dataframe...\n",
      "                    data  igp-mMensal  igp-m12m\n",
      "1    1989-06-01 00:00:00       0.1968       NaN\n",
      "2    1989-07-01 00:00:00       0.3591       NaN\n",
      "3    1989-08-01 00:00:00       0.3692       NaN\n",
      "4    1989-09-01 00:00:00       0.3992       NaN\n",
      "5    1989-10-01 00:00:00       0.4064       NaN\n",
      "..                   ...          ...       ...\n",
      "402  2022-11-01 00:00:00      -0.0056    0.0590\n",
      "403  2022-12-01 00:00:00       0.0045    0.0545\n",
      "404  2023-01-01 00:00:00       0.0021    0.0379\n",
      "405  2023-02-01 00:00:00      -0.0006    0.0186\n",
      "406  2023-03-01 00:00:00       0.0005    0.0017\n",
      "\n",
      "[406 rows x 3 columns]\n"
     ]
    },
    {
     "name": "stderr",
     "output_type": "stream",
     "text": [
      "C:\\Users\\Contri\\AppData\\Local\\Temp\\ipykernel_25348\\408139159.py:7: FutureWarning: As the xlwt package is no longer maintained, the xlwt engine will be removed in a future version of pandas. This is the only engine in pandas that supports writing in the xls format. Install openpyxl and write to an xlsx file instead. You can set the option io.excel.xls.writer to 'xlwt' to silence this warning. While this option is deprecated and will also raise a warning, it can be globally set and the warning suppressed.\n",
      "  df.to_excel(\"bases_tratadas/\"+file_name)\n"
     ]
    },
    {
     "ename": "ModuleNotFoundError",
     "evalue": "No module named 'xlwt'",
     "output_type": "error",
     "traceback": [
      "\u001b[1;31m---------------------------------------------------------------------------\u001b[0m",
      "\u001b[1;31mModuleNotFoundError\u001b[0m                       Traceback (most recent call last)",
      "\u001b[1;32m~\\AppData\\Local\\Temp\\ipykernel_25348\\408139159.py\u001b[0m in \u001b[0;36m<module>\u001b[1;34m\u001b[0m\n\u001b[0;32m      5\u001b[0m     \u001b[0mdf\u001b[0m \u001b[1;33m=\u001b[0m \u001b[0mclean_df\u001b[0m\u001b[1;33m(\u001b[0m\u001b[0mfile_name\u001b[0m\u001b[1;33m)\u001b[0m\u001b[1;33m\u001b[0m\u001b[1;33m\u001b[0m\u001b[0m\n\u001b[0;32m      6\u001b[0m     \u001b[0mprint\u001b[0m\u001b[1;33m(\u001b[0m\u001b[0mdf\u001b[0m\u001b[1;33m)\u001b[0m\u001b[1;33m\u001b[0m\u001b[1;33m\u001b[0m\u001b[0m\n\u001b[1;32m----> 7\u001b[1;33m     \u001b[0mdf\u001b[0m\u001b[1;33m.\u001b[0m\u001b[0mto_excel\u001b[0m\u001b[1;33m(\u001b[0m\u001b[1;34m\"bases_tratadas/\"\u001b[0m\u001b[1;33m+\u001b[0m\u001b[0mfile_name\u001b[0m\u001b[1;33m)\u001b[0m\u001b[1;33m\u001b[0m\u001b[1;33m\u001b[0m\u001b[0m\n\u001b[0m",
      "\u001b[1;32m~\\anaconda3\\lib\\site-packages\\pandas\\core\\generic.py\u001b[0m in \u001b[0;36mto_excel\u001b[1;34m(self, excel_writer, sheet_name, na_rep, float_format, columns, header, index, index_label, startrow, startcol, engine, merge_cells, encoding, inf_rep, verbose, freeze_panes, storage_options)\u001b[0m\n\u001b[0;32m   2343\u001b[0m             \u001b[0minf_rep\u001b[0m\u001b[1;33m=\u001b[0m\u001b[0minf_rep\u001b[0m\u001b[1;33m,\u001b[0m\u001b[1;33m\u001b[0m\u001b[1;33m\u001b[0m\u001b[0m\n\u001b[0;32m   2344\u001b[0m         )\n\u001b[1;32m-> 2345\u001b[1;33m         formatter.write(\n\u001b[0m\u001b[0;32m   2346\u001b[0m             \u001b[0mexcel_writer\u001b[0m\u001b[1;33m,\u001b[0m\u001b[1;33m\u001b[0m\u001b[1;33m\u001b[0m\u001b[0m\n\u001b[0;32m   2347\u001b[0m             \u001b[0msheet_name\u001b[0m\u001b[1;33m=\u001b[0m\u001b[0msheet_name\u001b[0m\u001b[1;33m,\u001b[0m\u001b[1;33m\u001b[0m\u001b[1;33m\u001b[0m\u001b[0m\n",
      "\u001b[1;32m~\\anaconda3\\lib\\site-packages\\pandas\\io\\formats\\excel.py\u001b[0m in \u001b[0;36mwrite\u001b[1;34m(self, writer, sheet_name, startrow, startcol, freeze_panes, engine, storage_options)\u001b[0m\n\u001b[0;32m    886\u001b[0m             \u001b[1;31m# error: Cannot instantiate abstract class 'ExcelWriter' with abstract\u001b[0m\u001b[1;33m\u001b[0m\u001b[1;33m\u001b[0m\u001b[0m\n\u001b[0;32m    887\u001b[0m             \u001b[1;31m# attributes 'engine', 'save', 'supported_extensions' and 'write_cells'\u001b[0m\u001b[1;33m\u001b[0m\u001b[1;33m\u001b[0m\u001b[0m\n\u001b[1;32m--> 888\u001b[1;33m             writer = ExcelWriter(  # type: ignore[abstract]\n\u001b[0m\u001b[0;32m    889\u001b[0m                 \u001b[0mwriter\u001b[0m\u001b[1;33m,\u001b[0m \u001b[0mengine\u001b[0m\u001b[1;33m=\u001b[0m\u001b[0mengine\u001b[0m\u001b[1;33m,\u001b[0m \u001b[0mstorage_options\u001b[0m\u001b[1;33m=\u001b[0m\u001b[0mstorage_options\u001b[0m\u001b[1;33m\u001b[0m\u001b[1;33m\u001b[0m\u001b[0m\n\u001b[0;32m    890\u001b[0m             )\n",
      "\u001b[1;32m~\\anaconda3\\lib\\site-packages\\pandas\\io\\excel\\_xlwt.py\u001b[0m in \u001b[0;36m__init__\u001b[1;34m(self, path, engine, date_format, datetime_format, encoding, mode, storage_options, if_sheet_exists, engine_kwargs, **kwargs)\u001b[0m\n\u001b[0;32m     37\u001b[0m     ):\n\u001b[0;32m     38\u001b[0m         \u001b[1;31m# Use the xlwt module as the Excel writer.\u001b[0m\u001b[1;33m\u001b[0m\u001b[1;33m\u001b[0m\u001b[0m\n\u001b[1;32m---> 39\u001b[1;33m         \u001b[1;32mimport\u001b[0m \u001b[0mxlwt\u001b[0m\u001b[1;33m\u001b[0m\u001b[1;33m\u001b[0m\u001b[0m\n\u001b[0m\u001b[0;32m     40\u001b[0m \u001b[1;33m\u001b[0m\u001b[0m\n\u001b[0;32m     41\u001b[0m         \u001b[0mengine_kwargs\u001b[0m \u001b[1;33m=\u001b[0m \u001b[0mcombine_kwargs\u001b[0m\u001b[1;33m(\u001b[0m\u001b[0mengine_kwargs\u001b[0m\u001b[1;33m,\u001b[0m \u001b[0mkwargs\u001b[0m\u001b[1;33m)\u001b[0m\u001b[1;33m\u001b[0m\u001b[1;33m\u001b[0m\u001b[0m\n",
      "\u001b[1;31mModuleNotFoundError\u001b[0m: No module named 'xlwt'"
     ]
    }
   ],
   "source": [
    "if __name__ == '__main__':\n",
    "    file_name = \"igpm.xls\"\n",
    "    file_url = getDownloadLink(date.today())\n",
    "    download_file(file_url, file_name)\n",
    "    df = clean_df(file_name)\n",
    "    print(df)\n",
    "    df.to_excel(\"bases_tratadas/\"+file_name)"
   ]
  },
  {
   "cell_type": "code",
   "execution_count": null,
   "id": "8a2c102b",
   "metadata": {},
   "outputs": [],
   "source": []
  }
 ],
 "metadata": {
  "kernelspec": {
   "display_name": "Python 3 (ipykernel)",
   "language": "python",
   "name": "python3"
  },
  "language_info": {
   "codemirror_mode": {
    "name": "ipython",
    "version": 3
   },
   "file_extension": ".py",
   "mimetype": "text/x-python",
   "name": "python",
   "nbconvert_exporter": "python",
   "pygments_lexer": "ipython3",
   "version": "3.9.13"
  }
 },
 "nbformat": 4,
 "nbformat_minor": 5
}
